{
 "cells": [
  {
   "cell_type": "code",
   "execution_count": 1,
   "id": "e2a5cdfd",
   "metadata": {},
   "outputs": [],
   "source": [
    "import os\n",
    "import pandas as pd"
   ]
  },
  {
   "cell_type": "code",
   "execution_count": 2,
   "id": "2f529e04",
   "metadata": {},
   "outputs": [],
   "source": [
    "df = pd.read_csv(\"data/supermarket_sales.csv\")"
   ]
  },
  {
   "cell_type": "code",
   "execution_count": null,
   "id": "c2bc5afc",
   "metadata": {},
   "outputs": [],
   "source": [
    "def summaryOfData(path,inputFileName):\n",
    "    pathandFileName=path+\"\\\\\"+inputFileName\n",
    "    extension = os.path.basename(pathandFileName).split(\".\")[1]\n",
    "    if extension ==\"csv\":\n",
    "        df = pd.read_csv(pathandFileName)\n",
    "    elif extension ==\"xlsx\":\n",
    "        df = pd.read_excel(pathandFileName)\n",
    "    elif extension ==\"xls\":\n",
    "        df = pd.read_excel(pathandFileName)\n",
    "    elif extension ==\"json\":\n",
    "        df = pd.read_json(pathandFileName)\n",
    "    else:\n",
    "        print(\"Extension not found, Please recheck!\")\n",
    "    print(\"The Name of the Input File : \",inputFileName )\n",
    "    print(\"=\"*60+\"\\n\")\n",
    "    print(\"Top 2 rows of the Dataframe :\\n\\n\",df.head(2))\n",
    "    print(\"*\"*60 +\"\\n\")\n",
    "    print(\"Last 2 rows of the Dataframe :\\n\\n\",df.tail(2))\n",
    "    print(\"*\"*60 +\"\\n\")\n",
    "    print(\"The Shape of the input data is :\",df.shape)\n",
    "    print(\"*\"*60 +\"\\n\")\n",
    "    print(\"The DataType of the input data is :\\n\\n\",df.dtypes)\n",
    "    print(\"*\"*60 +\"\\n\")\n",
    "    print(\"The Basic Information about the input data is :\\n\\n\")\n",
    "    print(df.info())\n",
    "    print(\"*\"*60 +\"\\n\")\n",
    "    print(\"Describe the Numerical Dtypes of input data is :\\n\\n\",df.describe())\n",
    "    print(\"*\"*60 +\"\\n\")\n",
    "    print(\"Describe the Categorical Dtypes of input data is :\\n\\n\",df.describe(include=\"O\"))\n",
    "    print(\"*\"*60 +\"\\n\")\n",
    "    print(\"Finding the Null Values if any for the input data :\\n\\n\",df.isnull().sum())\n",
    "    print(\"*\"*60 +\"\\n\")"
   ]
  }
 ],
 "metadata": {
  "kernelspec": {
   "display_name": "Python 3 (ipykernel)",
   "language": "python",
   "name": "python3"
  },
  "language_info": {
   "codemirror_mode": {
    "name": "ipython",
    "version": 3
   },
   "file_extension": ".py",
   "mimetype": "text/x-python",
   "name": "python",
   "nbconvert_exporter": "python",
   "pygments_lexer": "ipython3",
   "version": "3.9.7"
  }
 },
 "nbformat": 4,
 "nbformat_minor": 5
}
