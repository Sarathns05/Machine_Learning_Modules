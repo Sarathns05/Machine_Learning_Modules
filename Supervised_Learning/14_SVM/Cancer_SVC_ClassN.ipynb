{
 "cells": [
  {
   "cell_type": "code",
   "execution_count": 6,
   "metadata": {},
   "outputs": [],
   "source": [
    "# Loading libraries\n",
    "\n",
    "import pandas as pd\n",
    "from matplotlib import pyplot as plt\n",
    "%matplotlib inline\n",
    "import seaborn as sns \n",
    "from sklearn.model_selection import train_test_split\n",
    "from sklearn.linear_model import LogisticRegression\n",
    "from sklearn.tree import DecisionTreeClassifier \n",
    "from sklearn.ensemble import RandomForestClassifier \n",
    "from sklearn.ensemble import AdaBoostClassifier \n",
    "from sklearn.ensemble import GradientBoostingClassifier \n",
    "from sklearn.svm import SVC\n",
    "from sklearn.metrics import accuracy_score"
   ]
  },
  {
   "cell_type": "code",
   "execution_count": 5,
   "metadata": {},
   "outputs": [],
   "source": [
    "data = pd.read_csv(\"/home/user/AI/LibrariesForAI/Supervised_Learning/9_Logistic_Regression_multiclass/breast_cancer_data.csv\")\n",
    "\n",
    "data.drop(['id','Unnamed: 32'],axis=1,inplace=True) \n",
    "\n",
    "# map function for mapping benign into 0 and malignant into 1 \n",
    "data['diagnosis'] = data['diagnosis'].map({'B':0,'M':1}) \n",
    "\n",
    "X=data.drop(['diagnosis'],axis=1) \n",
    "y=data['diagnosis'] \n",
    "X_train, X_test, y_train, y_test = train_test_split(X, y, test_size=0.33,random_state=42) "
   ]
  },
  {
   "cell_type": "code",
   "execution_count": 14,
   "metadata": {},
   "outputs": [],
   "source": [
    "log = LogisticRegression()\n",
    "rnd = RandomForestClassifier(n_estimators=500)\n",
    "adaboost = AdaBoostClassifier(n_estimators=100)\n",
    "gboost = GradientBoostingClassifier(n_estimators=100,learning_rate=1,max_features=5,random_state=42)\n",
    "svm = SVC()"
   ]
  },
  {
   "cell_type": "code",
   "execution_count": 15,
   "metadata": {},
   "outputs": [
    {
     "name": "stderr",
     "output_type": "stream",
     "text": [
      "/home/user/anaconda3/lib/python3.9/site-packages/sklearn/linear_model/_logistic.py:444: ConvergenceWarning: lbfgs failed to converge (status=1):\n",
      "STOP: TOTAL NO. of ITERATIONS REACHED LIMIT.\n",
      "\n",
      "Increase the number of iterations (max_iter) or scale the data as shown in:\n",
      "    https://scikit-learn.org/stable/modules/preprocessing.html\n",
      "Please also refer to the documentation for alternative solver options:\n",
      "    https://scikit-learn.org/stable/modules/linear_model.html#logistic-regression\n",
      "  n_iter_i = _check_optimize_result(\n"
     ]
    },
    {
     "name": "stdout",
     "output_type": "stream",
     "text": [
      "LogisticRegression 0.9627659574468085\n",
      "--------------------------------------\n",
      "RandomForestClassifier 0.9627659574468085\n",
      "--------------------------------------\n",
      "AdaBoostClassifier 0.9574468085106383\n",
      "--------------------------------------\n",
      "GradientBoostingClassifier 0.9627659574468085\n",
      "--------------------------------------\n",
      "SVC 0.9521276595744681\n",
      "--------------------------------------\n"
     ]
    }
   ],
   "source": [
    "for clf in (log,rnd,adaboost,gboost,svm):\n",
    "    clf.fit(X_train,y_train)\n",
    "    y_pred = clf.predict(X_test)\n",
    "    print(clf.__class__.__name__,accuracy_score(y_test,y_pred))\n",
    "    print(\"--------------------------------------\")"
   ]
  },
  {
   "cell_type": "code",
   "execution_count": 17,
   "metadata": {},
   "outputs": [
    {
     "data": {
      "text/plain": [
       "0.9202127659574468"
      ]
     },
     "execution_count": 17,
     "metadata": {},
     "output_type": "execute_result"
    }
   ],
   "source": [
    "svm = SVC(kernel=\"rbf\",C=0.1,degree=7) \n",
    "svm.fit(X_train, y_train) \n",
    "y_pred = svm.predict(X_test) \n",
    "accuracy_score(y_test, y_pred) "
   ]
  },
  {
   "cell_type": "code",
   "execution_count": null,
   "metadata": {},
   "outputs": [],
   "source": []
  }
 ],
 "metadata": {
  "kernelspec": {
   "display_name": "Python 3.9.7 ('base')",
   "language": "python",
   "name": "python3"
  },
  "language_info": {
   "codemirror_mode": {
    "name": "ipython",
    "version": 3
   },
   "file_extension": ".py",
   "mimetype": "text/x-python",
   "name": "python",
   "nbconvert_exporter": "python",
   "pygments_lexer": "ipython3",
   "version": "3.9.7"
  },
  "orig_nbformat": 4,
  "vscode": {
   "interpreter": {
    "hash": "1448b48b023bcc9c3d4a79e814720a10ca6d4244f75e0f7ce4af58f96ba2b7d3"
   }
  }
 },
 "nbformat": 4,
 "nbformat_minor": 2
}
